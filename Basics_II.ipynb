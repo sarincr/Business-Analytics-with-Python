{
  "nbformat": 4,
  "nbformat_minor": 0,
  "metadata": {
    "colab": {
      "name": "Basics II.ipynb",
      "provenance": [],
      "collapsed_sections": []
    },
    "kernelspec": {
      "name": "python3",
      "display_name": "Python 3"
    },
    "language_info": {
      "name": "python"
    }
  },
  "cells": [
    {
      "cell_type": "code",
      "metadata": {
        "id": "bTwFmoOrMU8q"
      },
      "source": [
        "x=-1.345345345"
      ],
      "execution_count": 1,
      "outputs": []
    },
    {
      "cell_type": "code",
      "metadata": {
        "colab": {
          "base_uri": "https://localhost:8080/"
        },
        "id": "E_y88r2rRMFO",
        "outputId": "99cc9fbe-225d-4602-8c89-adea7315be0e"
      },
      "source": [
        "round(x,2)"
      ],
      "execution_count": 2,
      "outputs": [
        {
          "output_type": "execute_result",
          "data": {
            "text/plain": [
              "-1.35"
            ]
          },
          "metadata": {},
          "execution_count": 2
        }
      ]
    },
    {
      "cell_type": "code",
      "metadata": {
        "colab": {
          "base_uri": "https://localhost:8080/"
        },
        "id": "5xkw8tL3RTth",
        "outputId": "a046e2b3-3e3f-4276-b0c4-ec470d1fbe17"
      },
      "source": [
        "abs(x)"
      ],
      "execution_count": 3,
      "outputs": [
        {
          "output_type": "execute_result",
          "data": {
            "text/plain": [
              "1.345345345"
            ]
          },
          "metadata": {},
          "execution_count": 3
        }
      ]
    },
    {
      "cell_type": "code",
      "metadata": {
        "colab": {
          "base_uri": "https://localhost:8080/",
          "height": 37
        },
        "id": "0KHGrb3GRURw",
        "outputId": "7991caea-9f9e-4416-b730-5d8008833f33"
      },
      "source": [
        "x=10\n",
        "hex(x)"
      ],
      "execution_count": 4,
      "outputs": [
        {
          "output_type": "execute_result",
          "data": {
            "application/vnd.google.colaboratory.intrinsic+json": {
              "type": "string"
            },
            "text/plain": [
              "'0xa'"
            ]
          },
          "metadata": {},
          "execution_count": 4
        }
      ]
    },
    {
      "cell_type": "code",
      "metadata": {
        "colab": {
          "base_uri": "https://localhost:8080/"
        },
        "id": "fBjB7G-6RYQa",
        "outputId": "32f05007-5a83-4974-9c3c-6bfc11cd9061"
      },
      "source": [
        "x=10.3424\n",
        "int(x)"
      ],
      "execution_count": 5,
      "outputs": [
        {
          "output_type": "execute_result",
          "data": {
            "text/plain": [
              "10"
            ]
          },
          "metadata": {},
          "execution_count": 5
        }
      ]
    },
    {
      "cell_type": "code",
      "metadata": {
        "colab": {
          "base_uri": "https://localhost:8080/"
        },
        "id": "sSdbDYQqRjGS",
        "outputId": "5e2e96f7-ef45-437d-ace1-bdf817191667"
      },
      "source": [
        "min(2,5,3,6,9)"
      ],
      "execution_count": 6,
      "outputs": [
        {
          "output_type": "execute_result",
          "data": {
            "text/plain": [
              "2"
            ]
          },
          "metadata": {},
          "execution_count": 6
        }
      ]
    },
    {
      "cell_type": "code",
      "metadata": {
        "colab": {
          "base_uri": "https://localhost:8080/"
        },
        "id": "eHK5oj6zRoih",
        "outputId": "a629135b-8612-40b1-f5ff-8638089fb744"
      },
      "source": [
        "max(2,5,3,6,9)"
      ],
      "execution_count": 7,
      "outputs": [
        {
          "output_type": "execute_result",
          "data": {
            "text/plain": [
              "9"
            ]
          },
          "metadata": {},
          "execution_count": 7
        }
      ]
    },
    {
      "cell_type": "code",
      "metadata": {
        "colab": {
          "base_uri": "https://localhost:8080/"
        },
        "id": "Y5kvbuk1RqRS",
        "outputId": "a9b55075-8fa6-4719-fb87-f38363503666"
      },
      "source": [
        "import math\n",
        "math.sqrt(81)"
      ],
      "execution_count": 8,
      "outputs": [
        {
          "output_type": "execute_result",
          "data": {
            "text/plain": [
              "9.0"
            ]
          },
          "metadata": {},
          "execution_count": 8
        }
      ]
    },
    {
      "cell_type": "code",
      "metadata": {
        "colab": {
          "base_uri": "https://localhost:8080/"
        },
        "id": "zBb1GXRlRvcx",
        "outputId": "c47b4bee-50f7-44c8-828c-cbf18f7fefc8"
      },
      "source": [
        "math.pi"
      ],
      "execution_count": 9,
      "outputs": [
        {
          "output_type": "execute_result",
          "data": {
            "text/plain": [
              "3.141592653589793"
            ]
          },
          "metadata": {},
          "execution_count": 9
        }
      ]
    },
    {
      "cell_type": "code",
      "metadata": {
        "colab": {
          "base_uri": "https://localhost:8080/"
        },
        "id": "7WlWM7acR6Wq",
        "outputId": "dba2001d-ea95-4f9e-ceff-6554c9abdd00"
      },
      "source": [
        "math.cos(math.pi/2)"
      ],
      "execution_count": 10,
      "outputs": [
        {
          "output_type": "execute_result",
          "data": {
            "text/plain": [
              "6.123233995736766e-17"
            ]
          },
          "metadata": {},
          "execution_count": 10
        }
      ]
    },
    {
      "cell_type": "code",
      "metadata": {
        "colab": {
          "base_uri": "https://localhost:8080/"
        },
        "id": "FzTLnOcoR-Sb",
        "outputId": "d7cc347f-f74e-4604-d48b-29d46b88a144"
      },
      "source": [
        "math.cos(0)"
      ],
      "execution_count": 11,
      "outputs": [
        {
          "output_type": "execute_result",
          "data": {
            "text/plain": [
              "1.0"
            ]
          },
          "metadata": {},
          "execution_count": 11
        }
      ]
    },
    {
      "cell_type": "code",
      "metadata": {
        "colab": {
          "base_uri": "https://localhost:8080/"
        },
        "id": "xs1eg27bSHy7",
        "outputId": "fe2ccb79-7515-438d-d142-7a7cfaa54663"
      },
      "source": [
        "math.sin(math.pi/2)"
      ],
      "execution_count": 12,
      "outputs": [
        {
          "output_type": "execute_result",
          "data": {
            "text/plain": [
              "1.0"
            ]
          },
          "metadata": {},
          "execution_count": 12
        }
      ]
    },
    {
      "cell_type": "code",
      "metadata": {
        "colab": {
          "base_uri": "https://localhost:8080/"
        },
        "id": "NrhpY103SJN6",
        "outputId": "58a6e24e-2c53-46dc-9496-6837dbb7bee6"
      },
      "source": [
        "math.sin(0)"
      ],
      "execution_count": 13,
      "outputs": [
        {
          "output_type": "execute_result",
          "data": {
            "text/plain": [
              "0.0"
            ]
          },
          "metadata": {},
          "execution_count": 13
        }
      ]
    },
    {
      "cell_type": "code",
      "metadata": {
        "colab": {
          "base_uri": "https://localhost:8080/"
        },
        "id": "rhF3bt7OSMBq",
        "outputId": "d39422b1-3d17-492d-ba1f-61f09e3edab5"
      },
      "source": [
        "math.log(10)"
      ],
      "execution_count": 14,
      "outputs": [
        {
          "output_type": "execute_result",
          "data": {
            "text/plain": [
              "2.302585092994046"
            ]
          },
          "metadata": {},
          "execution_count": 14
        }
      ]
    },
    {
      "cell_type": "code",
      "metadata": {
        "colab": {
          "base_uri": "https://localhost:8080/"
        },
        "id": "AUF_-cA7SOKZ",
        "outputId": "6312c6be-9cce-429a-b666-c172e275b4a0"
      },
      "source": [
        "math.log10(10)"
      ],
      "execution_count": 15,
      "outputs": [
        {
          "output_type": "execute_result",
          "data": {
            "text/plain": [
              "1.0"
            ]
          },
          "metadata": {},
          "execution_count": 15
        }
      ]
    },
    {
      "cell_type": "code",
      "metadata": {
        "colab": {
          "base_uri": "https://localhost:8080/"
        },
        "id": "Yxr44gqbSQYx",
        "outputId": "27be155f-cd8e-4c9c-cbe7-33342c39270e"
      },
      "source": [
        "math.e"
      ],
      "execution_count": 16,
      "outputs": [
        {
          "output_type": "execute_result",
          "data": {
            "text/plain": [
              "2.718281828459045"
            ]
          },
          "metadata": {},
          "execution_count": 16
        }
      ]
    },
    {
      "cell_type": "code",
      "metadata": {
        "id": "Aql9r0e0SX2J"
      },
      "source": [
        "x=100"
      ],
      "execution_count": 17,
      "outputs": []
    },
    {
      "cell_type": "code",
      "metadata": {
        "colab": {
          "base_uri": "https://localhost:8080/"
        },
        "id": "R973QXLuSURZ",
        "outputId": "3e079d5e-a825-4822-e28a-b3f80ce6c418"
      },
      "source": [
        "math.exp(x)"
      ],
      "execution_count": 18,
      "outputs": [
        {
          "output_type": "execute_result",
          "data": {
            "text/plain": [
              "2.6881171418161356e+43"
            ]
          },
          "metadata": {},
          "execution_count": 18
        }
      ]
    },
    {
      "cell_type": "code",
      "metadata": {
        "colab": {
          "base_uri": "https://localhost:8080/"
        },
        "id": "Xzo1uPRfSYlf",
        "outputId": "758c412e-315f-4cc7-fe9e-f9d17d489b81"
      },
      "source": [
        "math.factorial(3)"
      ],
      "execution_count": 19,
      "outputs": [
        {
          "output_type": "execute_result",
          "data": {
            "text/plain": [
              "6"
            ]
          },
          "metadata": {},
          "execution_count": 19
        }
      ]
    },
    {
      "cell_type": "code",
      "metadata": {
        "colab": {
          "base_uri": "https://localhost:8080/"
        },
        "id": "y7Pz1lfgSaYy",
        "outputId": "a6c55423-3637-4046-874d-1e1899c10794"
      },
      "source": [
        "math.isnan(x)"
      ],
      "execution_count": 20,
      "outputs": [
        {
          "output_type": "execute_result",
          "data": {
            "text/plain": [
              "False"
            ]
          },
          "metadata": {},
          "execution_count": 20
        }
      ]
    },
    {
      "cell_type": "code",
      "metadata": {
        "colab": {
          "base_uri": "https://localhost:8080/"
        },
        "id": "kcU9JCypSeVi",
        "outputId": "78f38129-5456-400f-d1ac-5c112d793952"
      },
      "source": [
        "math.pow(2, 3)"
      ],
      "execution_count": 21,
      "outputs": [
        {
          "output_type": "execute_result",
          "data": {
            "text/plain": [
              "8.0"
            ]
          },
          "metadata": {},
          "execution_count": 21
        }
      ]
    },
    {
      "cell_type": "code",
      "metadata": {
        "colab": {
          "base_uri": "https://localhost:8080/"
        },
        "id": "bmv0nDoHSkPC",
        "outputId": "91f93f78-b5f1-41d3-87a0-bffb77bf8878"
      },
      "source": [
        "math.log2(x)"
      ],
      "execution_count": 22,
      "outputs": [
        {
          "output_type": "execute_result",
          "data": {
            "text/plain": [
              "6.643856189774724"
            ]
          },
          "metadata": {},
          "execution_count": 22
        }
      ]
    },
    {
      "cell_type": "code",
      "metadata": {
        "colab": {
          "base_uri": "https://localhost:8080/"
        },
        "id": "rO-Ra7qzSlyU",
        "outputId": "4af034bc-811f-4929-92e1-c0c384e83801"
      },
      "source": [
        "z = complex(5,-6)\n",
        "z"
      ],
      "execution_count": 23,
      "outputs": [
        {
          "output_type": "execute_result",
          "data": {
            "text/plain": [
              "(5-6j)"
            ]
          },
          "metadata": {},
          "execution_count": 23
        }
      ]
    },
    {
      "cell_type": "code",
      "metadata": {
        "colab": {
          "base_uri": "https://localhost:8080/"
        },
        "id": "PZlu9vuXSyki",
        "outputId": "f84ff654-0932-4547-f098-3ed0a60db9c4"
      },
      "source": [
        "z*z"
      ],
      "execution_count": 24,
      "outputs": [
        {
          "output_type": "execute_result",
          "data": {
            "text/plain": [
              "(-11-60j)"
            ]
          },
          "metadata": {},
          "execution_count": 24
        }
      ]
    },
    {
      "cell_type": "code",
      "metadata": {
        "colab": {
          "base_uri": "https://localhost:8080/"
        },
        "id": "GU9qBZm2TBZR",
        "outputId": "8aae9a82-f727-47fb-ad38-e52907df3e39"
      },
      "source": [
        "z*z*z"
      ],
      "execution_count": 25,
      "outputs": [
        {
          "output_type": "execute_result",
          "data": {
            "text/plain": [
              "(-415-234j)"
            ]
          },
          "metadata": {},
          "execution_count": 25
        }
      ]
    },
    {
      "cell_type": "code",
      "metadata": {
        "colab": {
          "base_uri": "https://localhost:8080/"
        },
        "id": "mPBgPuHYTrPU",
        "outputId": "8514f190-9c71-4375-de6d-a4331ee4b2f3"
      },
      "source": [
        "z.real"
      ],
      "execution_count": 26,
      "outputs": [
        {
          "output_type": "execute_result",
          "data": {
            "text/plain": [
              "5.0"
            ]
          },
          "metadata": {},
          "execution_count": 26
        }
      ]
    },
    {
      "cell_type": "code",
      "metadata": {
        "colab": {
          "base_uri": "https://localhost:8080/"
        },
        "id": "eP9Ok-VXTu1a",
        "outputId": "7aff6fe8-aa9d-41a7-d288-dc992cbe89ee"
      },
      "source": [
        "z.imag"
      ],
      "execution_count": 27,
      "outputs": [
        {
          "output_type": "execute_result",
          "data": {
            "text/plain": [
              "-6.0"
            ]
          },
          "metadata": {},
          "execution_count": 27
        }
      ]
    },
    {
      "cell_type": "code",
      "metadata": {
        "id": "fa0QkrX_Tv4C"
      },
      "source": [
        "A = \"Hello Python\""
      ],
      "execution_count": 28,
      "outputs": []
    },
    {
      "cell_type": "code",
      "metadata": {
        "colab": {
          "base_uri": "https://localhost:8080/",
          "height": 37
        },
        "id": "D-8KKY3eUBXq",
        "outputId": "a7492327-97bf-4412-f5c2-02aa87d77669"
      },
      "source": [
        "A.capitalize()"
      ],
      "execution_count": 29,
      "outputs": [
        {
          "output_type": "execute_result",
          "data": {
            "application/vnd.google.colaboratory.intrinsic+json": {
              "type": "string"
            },
            "text/plain": [
              "'Hello python'"
            ]
          },
          "metadata": {},
          "execution_count": 29
        }
      ]
    },
    {
      "cell_type": "code",
      "metadata": {
        "colab": {
          "base_uri": "https://localhost:8080/"
        },
        "id": "VeNoMOqPUG5x",
        "outputId": "d8c61647-856f-457c-db08-944c170e605e"
      },
      "source": [
        "A.count(\"l\")"
      ],
      "execution_count": 30,
      "outputs": [
        {
          "output_type": "execute_result",
          "data": {
            "text/plain": [
              "2"
            ]
          },
          "metadata": {},
          "execution_count": 30
        }
      ]
    },
    {
      "cell_type": "code",
      "metadata": {
        "colab": {
          "base_uri": "https://localhost:8080/"
        },
        "id": "0LTNe1WhUS_t",
        "outputId": "0e702d34-7d4e-4c77-cf0a-4e5a1600e619"
      },
      "source": [
        "A.find(\"l\")"
      ],
      "execution_count": 31,
      "outputs": [
        {
          "output_type": "execute_result",
          "data": {
            "text/plain": [
              "2"
            ]
          },
          "metadata": {},
          "execution_count": 31
        }
      ]
    },
    {
      "cell_type": "code",
      "metadata": {
        "colab": {
          "base_uri": "https://localhost:8080/"
        },
        "id": "dvR7x1XNUZIp",
        "outputId": "86a8a3e2-2a6e-4577-ad69-0ef4ac3c3264"
      },
      "source": [
        "A.index(\"l\")"
      ],
      "execution_count": 32,
      "outputs": [
        {
          "output_type": "execute_result",
          "data": {
            "text/plain": [
              "2"
            ]
          },
          "metadata": {},
          "execution_count": 32
        }
      ]
    },
    {
      "cell_type": "code",
      "metadata": {
        "colab": {
          "base_uri": "https://localhost:8080/"
        },
        "id": "_tLhVxb1UdPL",
        "outputId": "b514dd29-434b-49b2-83c8-c801c8e11e2e"
      },
      "source": [
        "A.isalpha()"
      ],
      "execution_count": 33,
      "outputs": [
        {
          "output_type": "execute_result",
          "data": {
            "text/plain": [
              "False"
            ]
          },
          "metadata": {},
          "execution_count": 33
        }
      ]
    },
    {
      "cell_type": "code",
      "metadata": {
        "colab": {
          "base_uri": "https://localhost:8080/"
        },
        "id": "WSsDXYbWUepj",
        "outputId": "c8d5ef0e-bd0b-4368-addb-dc158c33c9c6"
      },
      "source": [
        "A.isdecimal()"
      ],
      "execution_count": 34,
      "outputs": [
        {
          "output_type": "execute_result",
          "data": {
            "text/plain": [
              "False"
            ]
          },
          "metadata": {},
          "execution_count": 34
        }
      ]
    },
    {
      "cell_type": "code",
      "metadata": {
        "id": "lFnqww9mUfvq"
      },
      "source": [
        "x=\"10\""
      ],
      "execution_count": 35,
      "outputs": []
    },
    {
      "cell_type": "code",
      "metadata": {
        "colab": {
          "base_uri": "https://localhost:8080/"
        },
        "id": "CrJ7pgBdUg8f",
        "outputId": "540e7303-cfdb-4f29-9e3d-481c33713494"
      },
      "source": [
        "x.isdecimal()"
      ],
      "execution_count": 36,
      "outputs": [
        {
          "output_type": "execute_result",
          "data": {
            "text/plain": [
              "True"
            ]
          },
          "metadata": {},
          "execution_count": 36
        }
      ]
    },
    {
      "cell_type": "code",
      "metadata": {
        "colab": {
          "base_uri": "https://localhost:8080/"
        },
        "id": "xwJ2UOaoUiDo",
        "outputId": "1b0c5ff1-cf02-41bf-b6e3-58871c031ccb"
      },
      "source": [
        "A.islower()"
      ],
      "execution_count": 37,
      "outputs": [
        {
          "output_type": "execute_result",
          "data": {
            "text/plain": [
              "False"
            ]
          },
          "metadata": {},
          "execution_count": 37
        }
      ]
    },
    {
      "cell_type": "code",
      "metadata": {
        "colab": {
          "base_uri": "https://localhost:8080/"
        },
        "id": "Tl-gwwUvUxp2",
        "outputId": "1dfe3993-b7e3-4f8b-8580-e13b9ea1242e"
      },
      "source": [
        "x.isnumeric()"
      ],
      "execution_count": 38,
      "outputs": [
        {
          "output_type": "execute_result",
          "data": {
            "text/plain": [
              "True"
            ]
          },
          "metadata": {},
          "execution_count": 38
        }
      ]
    },
    {
      "cell_type": "code",
      "metadata": {
        "colab": {
          "base_uri": "https://localhost:8080/"
        },
        "id": "L7loWUe5U0KH",
        "outputId": "9a39ee88-bfcc-4383-8e1c-1b3611bc5c5a"
      },
      "source": [
        "A.isupper()"
      ],
      "execution_count": 39,
      "outputs": [
        {
          "output_type": "execute_result",
          "data": {
            "text/plain": [
              "False"
            ]
          },
          "metadata": {},
          "execution_count": 39
        }
      ]
    },
    {
      "cell_type": "code",
      "metadata": {
        "colab": {
          "base_uri": "https://localhost:8080/"
        },
        "id": "-d10LW5DU2aC",
        "outputId": "63e819e7-45a9-4225-aeff-c4069c18d69d"
      },
      "source": [
        "A.istitle()"
      ],
      "execution_count": 40,
      "outputs": [
        {
          "output_type": "execute_result",
          "data": {
            "text/plain": [
              "True"
            ]
          },
          "metadata": {},
          "execution_count": 40
        }
      ]
    },
    {
      "cell_type": "code",
      "metadata": {
        "colab": {
          "base_uri": "https://localhost:8080/",
          "height": 37
        },
        "id": "nEQoBatUU6Hz",
        "outputId": "25482147-bc9a-4c5d-e8f4-7b6cc85fc7de"
      },
      "source": [
        "A.lower()"
      ],
      "execution_count": 41,
      "outputs": [
        {
          "output_type": "execute_result",
          "data": {
            "application/vnd.google.colaboratory.intrinsic+json": {
              "type": "string"
            },
            "text/plain": [
              "'hello python'"
            ]
          },
          "metadata": {},
          "execution_count": 41
        }
      ]
    },
    {
      "cell_type": "code",
      "metadata": {
        "colab": {
          "base_uri": "https://localhost:8080/",
          "height": 37
        },
        "id": "18Fp1NkcU_gm",
        "outputId": "3ace0748-e8e8-421f-c61b-e6bc6e16b77d"
      },
      "source": [
        "A.swapcase()"
      ],
      "execution_count": 42,
      "outputs": [
        {
          "output_type": "execute_result",
          "data": {
            "application/vnd.google.colaboratory.intrinsic+json": {
              "type": "string"
            },
            "text/plain": [
              "'hELLO pYTHON'"
            ]
          },
          "metadata": {},
          "execution_count": 42
        }
      ]
    },
    {
      "cell_type": "code",
      "metadata": {
        "colab": {
          "base_uri": "https://localhost:8080/"
        },
        "id": "V364TTJdVGd6",
        "outputId": "70557038-3263-4b36-e259-7c6d3e5241f0"
      },
      "source": [
        "A.rindex(\"e\")"
      ],
      "execution_count": 43,
      "outputs": [
        {
          "output_type": "execute_result",
          "data": {
            "text/plain": [
              "1"
            ]
          },
          "metadata": {},
          "execution_count": 43
        }
      ]
    },
    {
      "cell_type": "code",
      "metadata": {
        "id": "xImD91T2XBKP"
      },
      "source": [
        "import datetime as dt"
      ],
      "execution_count": 44,
      "outputs": []
    },
    {
      "cell_type": "code",
      "metadata": {
        "colab": {
          "base_uri": "https://localhost:8080/"
        },
        "id": "WI16Zwc1X6j_",
        "outputId": "29522864-9da6-424d-d77f-1d61bd5e746f"
      },
      "source": [
        "new_years_eve = dt.datetime(2019,12,31,23,59)\n",
        "print(new_years_eve)"
      ],
      "execution_count": 45,
      "outputs": [
        {
          "output_type": "stream",
          "name": "stdout",
          "text": [
            "2019-12-31 23:59:00\n"
          ]
        }
      ]
    },
    {
      "cell_type": "code",
      "metadata": {
        "id": "FOm4lEXxXcRN"
      },
      "source": [
        "new_years_day = dt.date(2019,1,1)\n",
        "memorial_day = dt.date(2019,5,27)"
      ],
      "execution_count": 46,
      "outputs": []
    },
    {
      "cell_type": "code",
      "metadata": {
        "colab": {
          "base_uri": "https://localhost:8080/"
        },
        "id": "BMwgv-MOX1zq",
        "outputId": "d422419f-1ab8-4a0d-cd65-3da22d752da2"
      },
      "source": [
        "days_between = memorial_day - new_years_day\n",
        "days_between"
      ],
      "execution_count": 47,
      "outputs": [
        {
          "output_type": "execute_result",
          "data": {
            "text/plain": [
              "datetime.timedelta(days=146)"
            ]
          },
          "metadata": {},
          "execution_count": 47
        }
      ]
    },
    {
      "cell_type": "code",
      "metadata": {
        "colab": {
          "base_uri": "https://localhost:8080/"
        },
        "id": "pZD3Gm5DX2KI",
        "outputId": "ad75628f-371f-49b7-fe02-3d1b8815e8a7"
      },
      "source": [
        "new_years_day = dt.date(2019,1,1)\n",
        "duration = dt.timedelta(days=146)\n",
        "print(new_years_day + duration)"
      ],
      "execution_count": 48,
      "outputs": [
        {
          "output_type": "stream",
          "name": "stdout",
          "text": [
            "2019-05-27\n"
          ]
        }
      ]
    },
    {
      "cell_type": "code",
      "metadata": {
        "colab": {
          "base_uri": "https://localhost:8080/"
        },
        "id": "4h1ARenWYDZS",
        "outputId": "5d1314f8-6f33-40c9-c756-c30f2a21b1a6"
      },
      "source": [
        "import datetime as dt\n",
        "memorial_day = dt.date(2019,5,27)\n",
        "duration = dt.timedelta(days=146)\n",
        "print(memorial_day - duration)"
      ],
      "execution_count": 49,
      "outputs": [
        {
          "output_type": "stream",
          "name": "stdout",
          "text": [
            "2019-01-01\n"
          ]
        }
      ]
    },
    {
      "cell_type": "code",
      "metadata": {
        "colab": {
          "base_uri": "https://localhost:8080/"
        },
        "id": "PAKf9dqlYHUJ",
        "outputId": "639071b8-07b0-414c-804c-262e37080fee"
      },
      "source": [
        "import datetime as dt\n",
        "start_time = dt.datetime(2019, 3, 31, 8, 0, 0)\n",
        "finish_time = dt.datetime(2019, 3, 31, 14, 34, 45)\n",
        "time_between = finish_time - start_time\n",
        "print(time_between)"
      ],
      "execution_count": 50,
      "outputs": [
        {
          "output_type": "stream",
          "name": "stdout",
          "text": [
            "6:34:45\n"
          ]
        }
      ]
    },
    {
      "cell_type": "code",
      "metadata": {
        "colab": {
          "base_uri": "https://localhost:8080/"
        },
        "id": "LKhAq1wdYSlC",
        "outputId": "c0662b9e-8642-4913-c1ad-63395ee007fb"
      },
      "source": [
        "import datetime as dt\n",
        "now = dt.datetime.now()\n",
        "birthdatetime = dt.datetime(1995, 3, 31, 8, 26)\n",
        "age = now - birthdatetime\n",
        "print(\"Age = \", age)"
      ],
      "execution_count": 51,
      "outputs": [
        {
          "output_type": "stream",
          "name": "stdout",
          "text": [
            "Age =  9739 days, 3:30:57.026311\n"
          ]
        }
      ]
    },
    {
      "cell_type": "code",
      "metadata": {
        "colab": {
          "base_uri": "https://localhost:8080/"
        },
        "id": "cbDRMePZYd3k",
        "outputId": "a175a900-a0be-4524-a47c-df3140c8c7eb"
      },
      "source": [
        "import datetime as dt\n",
        "now = dt.datetime.now()\n",
        "birthdatetime = dt.datetime(1995, 3, 31, 8, 26)\n",
        "age = now - birthdatetime\n",
        "print(age)"
      ],
      "execution_count": 52,
      "outputs": [
        {
          "output_type": "stream",
          "name": "stdout",
          "text": [
            "9739 days, 3:30:57.042920\n"
          ]
        }
      ]
    }
  ]
}