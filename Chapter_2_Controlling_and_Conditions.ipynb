{
  "nbformat": 4,
  "nbformat_minor": 0,
  "metadata": {
    "colab": {
      "name": "Chapter  2 - Controlling and Conditions.ipynb",
      "provenance": [],
      "collapsed_sections": []
    },
    "kernelspec": {
      "name": "python3",
      "display_name": "Python 3"
    },
    "language_info": {
      "name": "python"
    }
  },
  "cells": [
    {
      "cell_type": "code",
      "metadata": {
        "colab": {
          "base_uri": "https://localhost:8080/"
        },
        "id": "ahRPEN7wbg4u",
        "outputId": "7b56f513-ea75-4f52-9533-08c006cdf392"
      },
      "source": [
        "x=int(input(\"Enter value of X=\"))\n",
        "y=int(input(\"Enter value of Y=\"))"
      ],
      "execution_count": 1,
      "outputs": [
        {
          "name": "stdout",
          "output_type": "stream",
          "text": [
            "Enter value of X=10\n",
            "Enter value of Y=20\n"
          ]
        }
      ]
    },
    {
      "cell_type": "code",
      "metadata": {
        "id": "rqxgRcllbzKH"
      },
      "source": [
        "if x > y :\n",
        "  print(\"X is greater than Y\")"
      ],
      "execution_count": 2,
      "outputs": []
    },
    {
      "cell_type": "code",
      "metadata": {
        "colab": {
          "base_uri": "https://localhost:8080/"
        },
        "id": "oE-IbnGrgczl",
        "outputId": "e50deed0-7ee6-432c-9460-62934e1e1454"
      },
      "source": [
        "if x > y :\n",
        "  print(\"X is greater than Y\")\n",
        "if x< y :\n",
        "  print(\"X is less than Y\")"
      ],
      "execution_count": 3,
      "outputs": [
        {
          "output_type": "stream",
          "name": "stdout",
          "text": [
            "X is less than Y\n"
          ]
        }
      ]
    },
    {
      "cell_type": "code",
      "metadata": {
        "colab": {
          "base_uri": "https://localhost:8080/"
        },
        "id": "PMmGzLFWgiSe",
        "outputId": "b9c89cd5-1fa1-4a6c-9dcb-299e45c2b8da"
      },
      "source": [
        "if x > y :\n",
        "  print(\"X is greater than Y\")\n",
        "if x< y :\n",
        "  print(\"X is less than Y\")\n",
        "if x == y :\n",
        "  print(\"X is equel to  Y\")"
      ],
      "execution_count": 4,
      "outputs": [
        {
          "output_type": "stream",
          "name": "stdout",
          "text": [
            "X is less than Y\n"
          ]
        }
      ]
    },
    {
      "cell_type": "code",
      "metadata": {
        "colab": {
          "base_uri": "https://localhost:8080/"
        },
        "id": "_ESdsPxtgs0w",
        "outputId": "cf39ca7a-ff31-414b-e1b6-ad92898325d2"
      },
      "source": [
        "x=int(input(\"Enter value of X=\"))\n",
        "y=int(input(\"Enter value of Y=\"))\n",
        "if x > y :\n",
        "  print(\"X is greater than Y\")\n",
        "if x< y :\n",
        "  print(\"X is less than Y\")\n",
        "if x == y :\n",
        "  print(\"X is equel to  Y\")"
      ],
      "execution_count": 5,
      "outputs": [
        {
          "output_type": "stream",
          "name": "stdout",
          "text": [
            "Enter value of X=10\n",
            "Enter value of Y=20\n",
            "X is less than Y\n"
          ]
        }
      ]
    },
    {
      "cell_type": "code",
      "metadata": {
        "colab": {
          "base_uri": "https://localhost:8080/"
        },
        "id": "M-oiqAckgwAu",
        "outputId": "ce5ca3d8-4863-4aa7-8fb3-68edb727e1f0"
      },
      "source": [
        "if x > y :\n",
        "  print(\"X is greater than Y\")\n",
        "elif x< y :\n",
        "  print(\"X is less than Y\")\n",
        "elif x == y :\n",
        "  print(\"X is equel to  Y\")"
      ],
      "execution_count": 6,
      "outputs": [
        {
          "output_type": "stream",
          "name": "stdout",
          "text": [
            "X is less than Y\n"
          ]
        }
      ]
    },
    {
      "cell_type": "code",
      "metadata": {
        "colab": {
          "base_uri": "https://localhost:8080/"
        },
        "id": "ut1GEg66g312",
        "outputId": "cea8fad4-1446-4665-e633-94e95e83a971"
      },
      "source": [
        "if x > y :\n",
        "  print(\"X is greater than Y\")\n",
        "elif x< y :\n",
        "  print(\"X is less than Y\")\n",
        "else:\n",
        "  print(\"X is equel to  Y\")"
      ],
      "execution_count": 7,
      "outputs": [
        {
          "output_type": "stream",
          "name": "stdout",
          "text": [
            "X is less than Y\n"
          ]
        }
      ]
    },
    {
      "cell_type": "code",
      "metadata": {
        "colab": {
          "base_uri": "https://localhost:8080/"
        },
        "id": "nsY0XJJZg7bI",
        "outputId": "644b9d22-092a-44df-9d08-087d208ac8a3"
      },
      "source": [
        "y=input(\"Enter your username = \")\n",
        "if y ==  \"Adam\":\n",
        "  print(\" Your username is correct\")\n",
        "else :\n",
        "  print(\"Wrong entry\")"
      ],
      "execution_count": 8,
      "outputs": [
        {
          "output_type": "stream",
          "name": "stdout",
          "text": [
            "Enter your username = Adam\n",
            " Your username is correct\n"
          ]
        }
      ]
    },
    {
      "cell_type": "code",
      "metadata": {
        "colab": {
          "base_uri": "https://localhost:8080/"
        },
        "id": "x3QWexujhgqj",
        "outputId": "52addf82-dc9d-4704-feeb-d7b3bab01c18"
      },
      "source": [
        "Income=int(input(\"Enter your Income in Lakhs \"))\n",
        "if ((Income>=2) and (Income<=5)):\n",
        "    print(\" Base Tax \")\n",
        "else:\n",
        "    print(\" Special Tax rates  \")"
      ],
      "execution_count": 9,
      "outputs": [
        {
          "output_type": "stream",
          "name": "stdout",
          "text": [
            "Enter your Income in Lakhs 5\n",
            " Base Tax \n"
          ]
        }
      ]
    },
    {
      "cell_type": "code",
      "metadata": {
        "colab": {
          "base_uri": "https://localhost:8080/"
        },
        "id": "v8ODerPGinJI",
        "outputId": "39e2c591-bfc4-4192-d925-efb483554744"
      },
      "source": [
        "Income=int(input(\"Enter your Income \"))\n",
        "if ((Income<=2) or (Income>=50)):\n",
        "    print(\"Tax rate is 5 %\")\n",
        "else:\n",
        "    print(\" Tax is 10 %\")"
      ],
      "execution_count": 10,
      "outputs": [
        {
          "output_type": "stream",
          "name": "stdout",
          "text": [
            "Enter your Income 5\n",
            " Tax is 10 %\n"
          ]
        }
      ]
    },
    {
      "cell_type": "code",
      "metadata": {
        "colab": {
          "base_uri": "https://localhost:8080/"
        },
        "id": "KJEW2a4hl4AU",
        "outputId": "4381afcf-cd56-4156-90a2-4272255ab72d"
      },
      "source": [
        "x= int(input(\"Enter a number  = \"))\n",
        "i=0\n",
        "while i < x:\n",
        "  print(i)\n",
        "  i = i +1"
      ],
      "execution_count": 11,
      "outputs": [
        {
          "output_type": "stream",
          "name": "stdout",
          "text": [
            "Enter a number  = 5\n",
            "0\n",
            "1\n",
            "2\n",
            "3\n",
            "4\n"
          ]
        }
      ]
    },
    {
      "cell_type": "code",
      "metadata": {
        "colab": {
          "base_uri": "https://localhost:8080/"
        },
        "id": "5MNfn3rroCpw",
        "outputId": "be417b7c-a2a6-4a85-bb55-71ecb7ae3ae1"
      },
      "source": [
        "x= int(input(\"Enter a number  = \"))\n",
        "i=0\n",
        "while i < x:\n",
        "  print(i)\n",
        "  i = i +2"
      ],
      "execution_count": 12,
      "outputs": [
        {
          "output_type": "stream",
          "name": "stdout",
          "text": [
            "Enter a number  = 5\n",
            "0\n",
            "2\n",
            "4\n"
          ]
        }
      ]
    },
    {
      "cell_type": "code",
      "metadata": {
        "colab": {
          "base_uri": "https://localhost:8080/"
        },
        "id": "lrfYmT86oMgX",
        "outputId": "013e95fd-38f5-4b2c-e733-a2a81ede7ea7"
      },
      "source": [
        "x = int(input(\" Please Enter the final value : \"))\n",
        "total = 0\n",
        "i = 0\n",
        "while i < x :\n",
        "  total = total + i\n",
        "  i=i+1\n",
        "\n",
        "print(total)"
      ],
      "execution_count": 13,
      "outputs": [
        {
          "output_type": "stream",
          "name": "stdout",
          "text": [
            " Please Enter the final value : 5\n",
            "10\n"
          ]
        }
      ]
    },
    {
      "cell_type": "code",
      "metadata": {
        "colab": {
          "base_uri": "https://localhost:8080/"
        },
        "id": "CCNEA1fpoudN",
        "outputId": "50e3d69f-5719-4023-c94a-e631382f4c82"
      },
      "source": [
        "x = int(input(\" Please a value: \"))\n",
        "\n",
        "for i in range(x) :\n",
        "  print(i)\n"
      ],
      "execution_count": 14,
      "outputs": [
        {
          "output_type": "stream",
          "name": "stdout",
          "text": [
            " Please a value: 5\n",
            "0\n",
            "1\n",
            "2\n",
            "3\n",
            "4\n"
          ]
        }
      ]
    },
    {
      "cell_type": "code",
      "metadata": {
        "colab": {
          "base_uri": "https://localhost:8080/"
        },
        "id": "PuiGJaREo1-P",
        "outputId": "325d710b-b154-47e0-b4ca-cb02601e0852"
      },
      "source": [
        "x = int(input(\" Please Enter the final value : \"))\n",
        "total = 0\n",
        " \n",
        "for i in range(x) :\n",
        "  total = total + i\n",
        "print(total)"
      ],
      "execution_count": 15,
      "outputs": [
        {
          "output_type": "stream",
          "name": "stdout",
          "text": [
            " Please Enter the final value : 5\n",
            "10\n"
          ]
        }
      ]
    },
    {
      "cell_type": "code",
      "metadata": {
        "colab": {
          "base_uri": "https://localhost:8080/"
        },
        "id": "9KIeqdnFpSf0",
        "outputId": "886610ff-6a7e-425d-c42e-04a01e04a771"
      },
      "source": [
        "x = int(input(\" Please Enter the final value : \"))\n",
        "total = 0\n",
        " \n",
        "for i in range(x) :\n",
        "  if(i%2) == 0 :\n",
        "    total = total + i\n",
        "print(total)"
      ],
      "execution_count": 16,
      "outputs": [
        {
          "output_type": "stream",
          "name": "stdout",
          "text": [
            " Please Enter the final value : 5\n",
            "6\n"
          ]
        }
      ]
    },
    {
      "cell_type": "code",
      "metadata": {
        "colab": {
          "base_uri": "https://localhost:8080/"
        },
        "id": "PegkCvbEp0pr",
        "outputId": "4d584ea0-0598-4c1b-d104-584f4938f52f"
      },
      "source": [
        " i = 1\n",
        "while i < 10:\n",
        "  print(i)\n",
        "  if i == 3:\n",
        "    break\n",
        "  i += 1 "
      ],
      "execution_count": 17,
      "outputs": [
        {
          "output_type": "stream",
          "name": "stdout",
          "text": [
            "1\n",
            "2\n",
            "3\n"
          ]
        }
      ]
    },
    {
      "cell_type": "code",
      "metadata": {
        "colab": {
          "base_uri": "https://localhost:8080/"
        },
        "id": "oJ3bMUL6qJUi",
        "outputId": "2314d9b2-2a78-4099-e44a-a327af08088c"
      },
      "source": [
        " i = 0\n",
        "while i < 10:\n",
        "  i += 1\n",
        "  if i == 3:\n",
        "    continue\n",
        "  print(i)"
      ],
      "execution_count": 18,
      "outputs": [
        {
          "output_type": "stream",
          "name": "stdout",
          "text": [
            "1\n",
            "2\n",
            "4\n",
            "5\n",
            "6\n",
            "7\n",
            "8\n",
            "9\n",
            "10\n"
          ]
        }
      ]
    },
    {
      "cell_type": "code",
      "metadata": {
        "id": "3JQOda1qqMYv"
      },
      "source": [
        ""
      ],
      "execution_count": 18,
      "outputs": []
    }
  ]
}