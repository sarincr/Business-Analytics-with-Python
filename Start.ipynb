{
  "nbformat": 4,
  "nbformat_minor": 0,
  "metadata": {
    "colab": {
      "name": "Start.ipynb",
      "provenance": [],
      "collapsed_sections": []
    },
    "kernelspec": {
      "name": "python3",
      "display_name": "Python 3"
    },
    "language_info": {
      "name": "python"
    }
  },
  "cells": [
    {
      "cell_type": "code",
      "metadata": {
        "id": "YFiVoEzFS5CM"
      },
      "source": [
        "x=10"
      ],
      "execution_count": 1,
      "outputs": []
    },
    {
      "cell_type": "code",
      "metadata": {
        "colab": {
          "base_uri": "https://localhost:8080/"
        },
        "id": "mqinMuufTpFc",
        "outputId": "51fb28e3-806b-4752-c831-fe2e1215fbe1"
      },
      "source": [
        "print(x)"
      ],
      "execution_count": 2,
      "outputs": [
        {
          "output_type": "stream",
          "name": "stdout",
          "text": [
            "10\n"
          ]
        }
      ]
    },
    {
      "cell_type": "code",
      "metadata": {
        "colab": {
          "base_uri": "https://localhost:8080/"
        },
        "id": "QvGFhlBFTz98",
        "outputId": "79234db9-feae-4520-b254-3cc3328b3acf"
      },
      "source": [
        "x"
      ],
      "execution_count": 3,
      "outputs": [
        {
          "output_type": "execute_result",
          "data": {
            "text/plain": [
              "10"
            ]
          },
          "metadata": {},
          "execution_count": 3
        }
      ]
    },
    {
      "cell_type": "code",
      "metadata": {
        "id": "ibpS2i6lS8jN"
      },
      "source": [
        "x=10"
      ],
      "execution_count": 4,
      "outputs": []
    },
    {
      "cell_type": "code",
      "metadata": {
        "id": "Fvs2RiRXTHyr"
      },
      "source": [
        "y=20"
      ],
      "execution_count": 5,
      "outputs": []
    },
    {
      "cell_type": "code",
      "metadata": {
        "colab": {
          "base_uri": "https://localhost:8080/"
        },
        "id": "08wj4pkiTI7q",
        "outputId": "b69cd660-95be-4715-f7eb-6fae0c722590"
      },
      "source": [
        "x+y"
      ],
      "execution_count": 6,
      "outputs": [
        {
          "output_type": "execute_result",
          "data": {
            "text/plain": [
              "30"
            ]
          },
          "metadata": {},
          "execution_count": 6
        }
      ]
    },
    {
      "cell_type": "code",
      "metadata": {
        "id": "5Y9Yv6a8TN2S"
      },
      "source": [
        "z=x+y"
      ],
      "execution_count": 7,
      "outputs": []
    },
    {
      "cell_type": "code",
      "metadata": {
        "colab": {
          "base_uri": "https://localhost:8080/"
        },
        "id": "wYYLuvIYTx5a",
        "outputId": "5717c20e-eca8-4972-9608-95fafb74210a"
      },
      "source": [
        "print(z)"
      ],
      "execution_count": 8,
      "outputs": [
        {
          "output_type": "stream",
          "name": "stdout",
          "text": [
            "30\n"
          ]
        }
      ]
    },
    {
      "cell_type": "code",
      "metadata": {
        "colab": {
          "base_uri": "https://localhost:8080/"
        },
        "id": "1Hw0azBPTzLs",
        "outputId": "b7ceb0d8-cd46-4d7d-a835-3b0f57ed18b0"
      },
      "source": [
        "print(\"Hello, World!\")"
      ],
      "execution_count": 9,
      "outputs": [
        {
          "output_type": "stream",
          "name": "stdout",
          "text": [
            "Hello, World!\n"
          ]
        }
      ]
    },
    {
      "cell_type": "code",
      "metadata": {
        "id": "_wxF0cusT5Yq"
      },
      "source": [
        "x=\"Hello World\""
      ],
      "execution_count": 10,
      "outputs": []
    },
    {
      "cell_type": "code",
      "metadata": {
        "colab": {
          "base_uri": "https://localhost:8080/",
          "height": 37
        },
        "id": "Ykdy0xaHUHFh",
        "outputId": "35d85db9-42a7-43ef-a5ec-31533d00c4d6"
      },
      "source": [
        "x"
      ],
      "execution_count": 11,
      "outputs": [
        {
          "output_type": "execute_result",
          "data": {
            "application/vnd.google.colaboratory.intrinsic+json": {
              "type": "string"
            },
            "text/plain": [
              "'Hello World'"
            ]
          },
          "metadata": {},
          "execution_count": 11
        }
      ]
    },
    {
      "cell_type": "code",
      "metadata": {
        "id": "5cQtWjeRUJBa"
      },
      "source": [
        "x=10"
      ],
      "execution_count": 12,
      "outputs": []
    },
    {
      "cell_type": "code",
      "metadata": {
        "colab": {
          "base_uri": "https://localhost:8080/"
        },
        "id": "tYm_BuTPUtWJ",
        "outputId": "a54cfe06-5f5e-4939-b5ff-0327a0efc02d"
      },
      "source": [
        "type(x)"
      ],
      "execution_count": 13,
      "outputs": [
        {
          "output_type": "execute_result",
          "data": {
            "text/plain": [
              "int"
            ]
          },
          "metadata": {},
          "execution_count": 13
        }
      ]
    },
    {
      "cell_type": "code",
      "metadata": {
        "id": "akKj_FOBUzHg"
      },
      "source": [
        "x=10.5"
      ],
      "execution_count": 14,
      "outputs": []
    },
    {
      "cell_type": "code",
      "metadata": {
        "colab": {
          "base_uri": "https://localhost:8080/"
        },
        "id": "AuF0HyBKU5Yh",
        "outputId": "bd3677aa-23a9-483b-ca74-17dcc487fcbf"
      },
      "source": [
        "type(x)"
      ],
      "execution_count": 15,
      "outputs": [
        {
          "output_type": "execute_result",
          "data": {
            "text/plain": [
              "float"
            ]
          },
          "metadata": {},
          "execution_count": 15
        }
      ]
    },
    {
      "cell_type": "code",
      "metadata": {
        "id": "bc78YNy-U6T_"
      },
      "source": [
        "x=5/8"
      ],
      "execution_count": 16,
      "outputs": []
    },
    {
      "cell_type": "code",
      "metadata": {
        "colab": {
          "base_uri": "https://localhost:8080/"
        },
        "id": "Q621eJoEVBdK",
        "outputId": "94ff0b78-73cf-4d08-9c7f-ae80ef6e3989"
      },
      "source": [
        "type(x)"
      ],
      "execution_count": 17,
      "outputs": [
        {
          "output_type": "execute_result",
          "data": {
            "text/plain": [
              "float"
            ]
          },
          "metadata": {},
          "execution_count": 17
        }
      ]
    },
    {
      "cell_type": "code",
      "metadata": {
        "id": "-f2onqgmVCyJ"
      },
      "source": [
        "x=\"India\""
      ],
      "execution_count": 18,
      "outputs": []
    },
    {
      "cell_type": "code",
      "metadata": {
        "colab": {
          "base_uri": "https://localhost:8080/"
        },
        "id": "05oNwP9HVNCo",
        "outputId": "050b5efa-9d25-4524-c94f-bdaf2fa2525a"
      },
      "source": [
        "type(x)"
      ],
      "execution_count": 19,
      "outputs": [
        {
          "output_type": "execute_result",
          "data": {
            "text/plain": [
              "str"
            ]
          },
          "metadata": {},
          "execution_count": 19
        }
      ]
    },
    {
      "cell_type": "code",
      "metadata": {
        "id": "Sc_CzeqgVN55"
      },
      "source": [
        "x= True"
      ],
      "execution_count": 20,
      "outputs": []
    },
    {
      "cell_type": "code",
      "metadata": {
        "colab": {
          "base_uri": "https://localhost:8080/"
        },
        "id": "QP9LyQl1VReX",
        "outputId": "b1c86b89-92a5-4387-9702-9d7d828e20c3"
      },
      "source": [
        "type(x)"
      ],
      "execution_count": 21,
      "outputs": [
        {
          "output_type": "execute_result",
          "data": {
            "text/plain": [
              "bool"
            ]
          },
          "metadata": {},
          "execution_count": 21
        }
      ]
    },
    {
      "cell_type": "code",
      "metadata": {
        "id": "V4R5x0qnVSLA"
      },
      "source": [
        "ABC=10"
      ],
      "execution_count": 22,
      "outputs": []
    },
    {
      "cell_type": "code",
      "metadata": {
        "id": "AVXJWGphVbVI"
      },
      "source": [
        "Abc=10"
      ],
      "execution_count": 23,
      "outputs": []
    },
    {
      "cell_type": "code",
      "metadata": {
        "id": "ohtkeJMGVctQ"
      },
      "source": [
        "aBC=10"
      ],
      "execution_count": 24,
      "outputs": []
    },
    {
      "cell_type": "code",
      "metadata": {
        "id": "f4GBF7e7Vdtp"
      },
      "source": [
        "abc=10"
      ],
      "execution_count": 25,
      "outputs": []
    },
    {
      "cell_type": "code",
      "metadata": {
        "id": "kck7yLWPVfWP"
      },
      "source": [
        "a_bc=10"
      ],
      "execution_count": 26,
      "outputs": []
    },
    {
      "cell_type": "code",
      "metadata": {
        "id": "7i4KOF0EVi2f"
      },
      "source": [
        "abc1=10"
      ],
      "execution_count": 27,
      "outputs": []
    },
    {
      "cell_type": "code",
      "metadata": {
        "id": "0uAKQXVFVmlZ"
      },
      "source": [
        "#1abc=10"
      ],
      "execution_count": 28,
      "outputs": []
    },
    {
      "cell_type": "code",
      "metadata": {
        "id": "KxoRo2HfVoiP"
      },
      "source": [
        "# a b=10"
      ],
      "execution_count": 29,
      "outputs": []
    },
    {
      "cell_type": "code",
      "metadata": {
        "id": "nIoHh_fJVwsx"
      },
      "source": [
        "# a-b=10"
      ],
      "execution_count": 30,
      "outputs": []
    },
    {
      "cell_type": "code",
      "metadata": {
        "id": "vdGx08BOVyJo"
      },
      "source": [
        "x, y, z = \"Orange\", \"Banana\", \"Cherry\" "
      ],
      "execution_count": 31,
      "outputs": []
    },
    {
      "cell_type": "code",
      "metadata": {
        "colab": {
          "base_uri": "https://localhost:8080/",
          "height": 37
        },
        "id": "DqD-g3N7V3Ev",
        "outputId": "9a7108e7-da56-4c78-fa72-d628b4fc1d4b"
      },
      "source": [
        "x"
      ],
      "execution_count": 32,
      "outputs": [
        {
          "output_type": "execute_result",
          "data": {
            "application/vnd.google.colaboratory.intrinsic+json": {
              "type": "string"
            },
            "text/plain": [
              "'Orange'"
            ]
          },
          "metadata": {},
          "execution_count": 32
        }
      ]
    },
    {
      "cell_type": "code",
      "metadata": {
        "colab": {
          "base_uri": "https://localhost:8080/",
          "height": 37
        },
        "id": "FdETA4JzV37Z",
        "outputId": "c5a38816-a126-4524-90df-59fce195d684"
      },
      "source": [
        "y"
      ],
      "execution_count": 33,
      "outputs": [
        {
          "output_type": "execute_result",
          "data": {
            "application/vnd.google.colaboratory.intrinsic+json": {
              "type": "string"
            },
            "text/plain": [
              "'Banana'"
            ]
          },
          "metadata": {},
          "execution_count": 33
        }
      ]
    },
    {
      "cell_type": "code",
      "metadata": {
        "colab": {
          "base_uri": "https://localhost:8080/",
          "height": 37
        },
        "id": "dW7CAAoLV5A2",
        "outputId": "d23aab24-f6c8-448d-da64-3f5c48cf72a0"
      },
      "source": [
        "z"
      ],
      "execution_count": 34,
      "outputs": [
        {
          "output_type": "execute_result",
          "data": {
            "application/vnd.google.colaboratory.intrinsic+json": {
              "type": "string"
            },
            "text/plain": [
              "'Cherry'"
            ]
          },
          "metadata": {},
          "execution_count": 34
        }
      ]
    },
    {
      "cell_type": "code",
      "metadata": {
        "id": "vYUMgmAfV5WO"
      },
      "source": [
        "x, y, z = \"Orange\", \"Banana\" , 2"
      ],
      "execution_count": 35,
      "outputs": []
    },
    {
      "cell_type": "code",
      "metadata": {
        "colab": {
          "base_uri": "https://localhost:8080/"
        },
        "id": "HpGs86AvV81n",
        "outputId": "d1d3dd46-6d3e-400e-e0e1-61b49f874e61"
      },
      "source": [
        "z"
      ],
      "execution_count": 36,
      "outputs": [
        {
          "output_type": "execute_result",
          "data": {
            "text/plain": [
              "2"
            ]
          },
          "metadata": {},
          "execution_count": 36
        }
      ]
    },
    {
      "cell_type": "code",
      "metadata": {
        "id": "7rL8KURIWAAl"
      },
      "source": [
        "x = y = z = 2"
      ],
      "execution_count": 37,
      "outputs": []
    },
    {
      "cell_type": "code",
      "metadata": {
        "colab": {
          "base_uri": "https://localhost:8080/"
        },
        "id": "O2L6UQyJWDFg",
        "outputId": "bce9e47d-1a29-46d3-ee6b-cdf838db5729"
      },
      "source": [
        "x"
      ],
      "execution_count": 38,
      "outputs": [
        {
          "output_type": "execute_result",
          "data": {
            "text/plain": [
              "2"
            ]
          },
          "metadata": {},
          "execution_count": 38
        }
      ]
    },
    {
      "cell_type": "code",
      "metadata": {
        "colab": {
          "base_uri": "https://localhost:8080/"
        },
        "id": "0dItrsyuWDcY",
        "outputId": "28240bf1-5e44-45df-eed4-7a463eb6b8f8"
      },
      "source": [
        "y"
      ],
      "execution_count": 39,
      "outputs": [
        {
          "output_type": "execute_result",
          "data": {
            "text/plain": [
              "2"
            ]
          },
          "metadata": {},
          "execution_count": 39
        }
      ]
    },
    {
      "cell_type": "code",
      "metadata": {
        "id": "iLS7f796WD8-"
      },
      "source": [
        "x = \"World\""
      ],
      "execution_count": 40,
      "outputs": []
    },
    {
      "cell_type": "code",
      "metadata": {
        "colab": {
          "base_uri": "https://localhost:8080/"
        },
        "id": "BYCVXPrcWLTe",
        "outputId": "ff984858-07cd-4766-a3ee-3b70b267d51a"
      },
      "source": [
        "print(\"Hello \" + x)"
      ],
      "execution_count": 41,
      "outputs": [
        {
          "output_type": "stream",
          "name": "stdout",
          "text": [
            "Hello World\n"
          ]
        }
      ]
    },
    {
      "cell_type": "code",
      "metadata": {
        "id": "x0tQemK0WNZH"
      },
      "source": [
        "x = 1j"
      ],
      "execution_count": 42,
      "outputs": []
    },
    {
      "cell_type": "code",
      "metadata": {
        "colab": {
          "base_uri": "https://localhost:8080/"
        },
        "id": "kz_LoE0QXzEN",
        "outputId": "2e4a3226-31dd-46cc-9642-20befa54eed8"
      },
      "source": [
        "x"
      ],
      "execution_count": 43,
      "outputs": [
        {
          "output_type": "execute_result",
          "data": {
            "text/plain": [
              "1j"
            ]
          },
          "metadata": {},
          "execution_count": 43
        }
      ]
    },
    {
      "cell_type": "code",
      "metadata": {
        "colab": {
          "base_uri": "https://localhost:8080/"
        },
        "id": "gH8uTLZVXzTk",
        "outputId": "0e71c4cd-6936-4d97-ce74-72169f1e394d"
      },
      "source": [
        "type(x)"
      ],
      "execution_count": 44,
      "outputs": [
        {
          "output_type": "execute_result",
          "data": {
            "text/plain": [
              "complex"
            ]
          },
          "metadata": {},
          "execution_count": 44
        }
      ]
    },
    {
      "cell_type": "code",
      "metadata": {
        "colab": {
          "base_uri": "https://localhost:8080/"
        },
        "id": "OkyRiLWdX38m",
        "outputId": "00488062-19a7-4c66-ad64-983b302f4f49"
      },
      "source": [
        "x*x"
      ],
      "execution_count": 45,
      "outputs": [
        {
          "output_type": "execute_result",
          "data": {
            "text/plain": [
              "(-1+0j)"
            ]
          },
          "metadata": {},
          "execution_count": 45
        }
      ]
    },
    {
      "cell_type": "code",
      "metadata": {
        "colab": {
          "base_uri": "https://localhost:8080/"
        },
        "id": "Mg21JsF7X9kP",
        "outputId": "ffcfd3d2-11fa-4331-a096-94fade4622d2"
      },
      "source": [
        "x*x*x"
      ],
      "execution_count": 46,
      "outputs": [
        {
          "output_type": "execute_result",
          "data": {
            "text/plain": [
              "(-0-1j)"
            ]
          },
          "metadata": {},
          "execution_count": 46
        }
      ]
    },
    {
      "cell_type": "code",
      "metadata": {
        "id": "TYXZ2rN6YDkE"
      },
      "source": [
        "x = b\"Hello\""
      ],
      "execution_count": 47,
      "outputs": []
    },
    {
      "cell_type": "code",
      "metadata": {
        "colab": {
          "base_uri": "https://localhost:8080/"
        },
        "id": "EvfGjB_sYKFF",
        "outputId": "5fd946cd-82d8-4d06-e4dc-791173a60805"
      },
      "source": [
        "type(x)"
      ],
      "execution_count": 48,
      "outputs": [
        {
          "output_type": "execute_result",
          "data": {
            "text/plain": [
              "bytes"
            ]
          },
          "metadata": {},
          "execution_count": 48
        }
      ]
    },
    {
      "cell_type": "code",
      "metadata": {
        "colab": {
          "base_uri": "https://localhost:8080/"
        },
        "id": "JcQrv73oYLC0",
        "outputId": "f27162df-3d8a-47c0-d39f-74eac0eed2a0"
      },
      "source": [
        "x"
      ],
      "execution_count": 49,
      "outputs": [
        {
          "output_type": "execute_result",
          "data": {
            "text/plain": [
              "b'Hello'"
            ]
          },
          "metadata": {},
          "execution_count": 49
        }
      ]
    },
    {
      "cell_type": "code",
      "metadata": {
        "id": "AVeeJjufYeIw",
        "colab": {
          "base_uri": "https://localhost:8080/"
        },
        "outputId": "9f9dfbc5-3cad-4a67-8404-e773cc698f8e"
      },
      "source": [
        "b = \"Hello, World!\"\n",
        "print(b[2:5])"
      ],
      "execution_count": 50,
      "outputs": [
        {
          "output_type": "stream",
          "name": "stdout",
          "text": [
            "llo\n"
          ]
        }
      ]
    },
    {
      "cell_type": "code",
      "metadata": {
        "colab": {
          "base_uri": "https://localhost:8080/"
        },
        "id": "tpivwWfoXvkT",
        "outputId": "33f92b81-c739-4cd8-e82b-38e193d01123"
      },
      "source": [
        "print(b[:5])"
      ],
      "execution_count": 51,
      "outputs": [
        {
          "output_type": "stream",
          "name": "stdout",
          "text": [
            "Hello\n"
          ]
        }
      ]
    },
    {
      "cell_type": "code",
      "metadata": {
        "colab": {
          "base_uri": "https://localhost:8080/"
        },
        "id": "BM2GhenHXxIA",
        "outputId": "35a6a059-e14c-43a9-dd6a-79a0ad37c6dc"
      },
      "source": [
        "print(b[2:])"
      ],
      "execution_count": 52,
      "outputs": [
        {
          "output_type": "stream",
          "name": "stdout",
          "text": [
            "llo, World!\n"
          ]
        }
      ]
    },
    {
      "cell_type": "code",
      "metadata": {
        "colab": {
          "base_uri": "https://localhost:8080/"
        },
        "id": "FqY9qYAeXy56",
        "outputId": "dd8da085-a7e3-46d3-fb63-5b013000916b"
      },
      "source": [
        "print(b[-5:-2])"
      ],
      "execution_count": 53,
      "outputs": [
        {
          "output_type": "stream",
          "name": "stdout",
          "text": [
            "orl\n"
          ]
        }
      ]
    },
    {
      "cell_type": "code",
      "metadata": {
        "id": "HLr_U6dOX0vJ"
      },
      "source": [
        " a = \"Hello World!\""
      ],
      "execution_count": 54,
      "outputs": []
    },
    {
      "cell_type": "code",
      "metadata": {
        "colab": {
          "base_uri": "https://localhost:8080/",
          "height": 37
        },
        "id": "AGzlmDZhX3nh",
        "outputId": "9ad1424d-dd88-42d5-dc2b-ab2046e61899"
      },
      "source": [
        "a.upper()"
      ],
      "execution_count": 55,
      "outputs": [
        {
          "output_type": "execute_result",
          "data": {
            "application/vnd.google.colaboratory.intrinsic+json": {
              "type": "string"
            },
            "text/plain": [
              "'HELLO WORLD!'"
            ]
          },
          "metadata": {},
          "execution_count": 55
        }
      ]
    },
    {
      "cell_type": "code",
      "metadata": {
        "colab": {
          "base_uri": "https://localhost:8080/"
        },
        "id": "fhB3D1zHX7l3",
        "outputId": "60ac267b-f4ff-4334-bf12-bcdd76a4c050"
      },
      "source": [
        "a.partition(\"el\")"
      ],
      "execution_count": 56,
      "outputs": [
        {
          "output_type": "execute_result",
          "data": {
            "text/plain": [
              "('H', 'el', 'lo World!')"
            ]
          },
          "metadata": {},
          "execution_count": 56
        }
      ]
    },
    {
      "cell_type": "code",
      "metadata": {
        "colab": {
          "base_uri": "https://localhost:8080/"
        },
        "id": "PMNE6t1fYGek",
        "outputId": "20c1353e-8de9-453e-a1fb-c3c145f66cdc"
      },
      "source": [
        "a.split(\"ell\")"
      ],
      "execution_count": 57,
      "outputs": [
        {
          "output_type": "execute_result",
          "data": {
            "text/plain": [
              "['H', 'o World!']"
            ]
          },
          "metadata": {},
          "execution_count": 57
        }
      ]
    },
    {
      "cell_type": "code",
      "metadata": {
        "colab": {
          "base_uri": "https://localhost:8080/"
        },
        "id": "VKlYuUU3YbtX",
        "outputId": "d72fa859-bbf7-4449-ef11-d391c1857ce9"
      },
      "source": [
        "a.split(\"ell\")"
      ],
      "execution_count": 58,
      "outputs": [
        {
          "output_type": "execute_result",
          "data": {
            "text/plain": [
              "['H', 'o World!']"
            ]
          },
          "metadata": {},
          "execution_count": 58
        }
      ]
    },
    {
      "cell_type": "code",
      "metadata": {
        "colab": {
          "base_uri": "https://localhost:8080/"
        },
        "id": "cYYvcT4XYgmX",
        "outputId": "edbbc45a-575d-48ac-db93-101ab4d23d59"
      },
      "source": [
        "a.startswith(\"W\")"
      ],
      "execution_count": 59,
      "outputs": [
        {
          "output_type": "execute_result",
          "data": {
            "text/plain": [
              "False"
            ]
          },
          "metadata": {},
          "execution_count": 59
        }
      ]
    },
    {
      "cell_type": "code",
      "metadata": {
        "colab": {
          "base_uri": "https://localhost:8080/"
        },
        "id": "0gPNJYnQY7GX",
        "outputId": "8c5508b0-3467-4f27-d209-96883b303ecc"
      },
      "source": [
        "a.startswith(\"H\")"
      ],
      "execution_count": 60,
      "outputs": [
        {
          "output_type": "execute_result",
          "data": {
            "text/plain": [
              "True"
            ]
          },
          "metadata": {},
          "execution_count": 60
        }
      ]
    },
    {
      "cell_type": "code",
      "metadata": {
        "colab": {
          "base_uri": "https://localhost:8080/",
          "height": 37
        },
        "id": "60N-Cg-nZMP2",
        "outputId": "e0d5b074-9411-4a19-84d7-54b9620b1637"
      },
      "source": [
        "a.capitalize()"
      ],
      "execution_count": 61,
      "outputs": [
        {
          "output_type": "execute_result",
          "data": {
            "application/vnd.google.colaboratory.intrinsic+json": {
              "type": "string"
            },
            "text/plain": [
              "'Hello world!'"
            ]
          },
          "metadata": {},
          "execution_count": 61
        }
      ]
    },
    {
      "cell_type": "code",
      "metadata": {
        "colab": {
          "base_uri": "https://localhost:8080/",
          "height": 37
        },
        "id": "gBBpxHKoZ0Dy",
        "outputId": "274e2521-339d-475e-e0a8-1ac62183c312"
      },
      "source": [
        "a.casefold()"
      ],
      "execution_count": 62,
      "outputs": [
        {
          "output_type": "execute_result",
          "data": {
            "application/vnd.google.colaboratory.intrinsic+json": {
              "type": "string"
            },
            "text/plain": [
              "'hello world!'"
            ]
          },
          "metadata": {},
          "execution_count": 62
        }
      ]
    },
    {
      "cell_type": "code",
      "metadata": {
        "colab": {
          "base_uri": "https://localhost:8080/"
        },
        "id": "wDOuY-aKZ5l8",
        "outputId": "f63f765e-9ca1-453a-b3b7-6dd402effe2a"
      },
      "source": [
        "a.count(\"l\")"
      ],
      "execution_count": 63,
      "outputs": [
        {
          "output_type": "execute_result",
          "data": {
            "text/plain": [
              "3"
            ]
          },
          "metadata": {},
          "execution_count": 63
        }
      ]
    },
    {
      "cell_type": "code",
      "metadata": {
        "colab": {
          "base_uri": "https://localhost:8080/"
        },
        "id": "-iiGgrhGaJ-X",
        "outputId": "811081b8-b80a-4765-b366-847fbe96fcb6"
      },
      "source": [
        "a.find(\"el\")"
      ],
      "execution_count": 64,
      "outputs": [
        {
          "output_type": "execute_result",
          "data": {
            "text/plain": [
              "1"
            ]
          },
          "metadata": {},
          "execution_count": 64
        }
      ]
    },
    {
      "cell_type": "code",
      "metadata": {
        "colab": {
          "base_uri": "https://localhost:8080/"
        },
        "id": "__vwJXNcbAIF",
        "outputId": "2f11f76f-0171-4768-83ed-475526996936"
      },
      "source": [
        "a.index(\"el\")"
      ],
      "execution_count": 65,
      "outputs": [
        {
          "output_type": "execute_result",
          "data": {
            "text/plain": [
              "1"
            ]
          },
          "metadata": {},
          "execution_count": 65
        }
      ]
    },
    {
      "cell_type": "code",
      "metadata": {
        "id": "AQyaruCDe5Du"
      },
      "source": [
        "a=10"
      ],
      "execution_count": 66,
      "outputs": []
    },
    {
      "cell_type": "code",
      "metadata": {
        "colab": {
          "base_uri": "https://localhost:8080/"
        },
        "id": "sk6L0E63fRPu",
        "outputId": "ae005115-de65-447d-a369-137f2d1b1446"
      },
      "source": [
        "a"
      ],
      "execution_count": 67,
      "outputs": [
        {
          "output_type": "execute_result",
          "data": {
            "text/plain": [
              "10"
            ]
          },
          "metadata": {},
          "execution_count": 67
        }
      ]
    },
    {
      "cell_type": "code",
      "metadata": {
        "colab": {
          "base_uri": "https://localhost:8080/"
        },
        "id": "sFUMS_K1fa7F",
        "outputId": "a867c7bb-cace-4a60-ccdc-3eb7a13fe168"
      },
      "source": [
        "txt = \"banana\"\n",
        "\n",
        "x = txt.center(20)\n",
        "\n",
        "print(x)\n"
      ],
      "execution_count": 68,
      "outputs": [
        {
          "output_type": "stream",
          "name": "stdout",
          "text": [
            "       banana       \n"
          ]
        }
      ]
    },
    {
      "cell_type": "code",
      "metadata": {
        "colab": {
          "base_uri": "https://localhost:8080/"
        },
        "id": "eZzROFqhfufg",
        "outputId": "dde793e7-2a7b-4536-a57c-736d4d0f9b05"
      },
      "source": [
        "txt = \"banana\"\n",
        "\n",
        "x = txt.center(20, \"O\")\n",
        "\n",
        "print(x) "
      ],
      "execution_count": 69,
      "outputs": [
        {
          "output_type": "stream",
          "name": "stdout",
          "text": [
            "OOOOOOObananaOOOOOOO\n"
          ]
        }
      ]
    },
    {
      "cell_type": "code",
      "metadata": {
        "colab": {
          "base_uri": "https://localhost:8080/"
        },
        "id": "ghplo_X_fzCm",
        "outputId": "19cd87ef-c9db-44ac-bb9d-7e198338c3e3"
      },
      "source": [
        " txt = \"I love apples, apple are my favorite fruit\"\n",
        "\n",
        "x = txt.count(\"apple\", 10, 24)\n",
        "\n",
        "print(x) "
      ],
      "execution_count": 70,
      "outputs": [
        {
          "output_type": "stream",
          "name": "stdout",
          "text": [
            "1\n"
          ]
        }
      ]
    },
    {
      "cell_type": "code",
      "metadata": {
        "colab": {
          "base_uri": "https://localhost:8080/"
        },
        "id": "6UsPGnjegGKP",
        "outputId": "c6c99a58-6e0e-46a2-d494-9726af0c6cbb"
      },
      "source": [
        " txt = \"My name is Ståle\"\n",
        "\n",
        "x = txt.encode()\n",
        "\n",
        "print(x) "
      ],
      "execution_count": 71,
      "outputs": [
        {
          "output_type": "stream",
          "name": "stdout",
          "text": [
            "b'My name is St\\xc3\\xa5le'\n"
          ]
        }
      ]
    },
    {
      "cell_type": "code",
      "metadata": {
        "colab": {
          "base_uri": "https://localhost:8080/"
        },
        "id": "pEk6YVI-gS7_",
        "outputId": "b6e61f92-80ba-4389-8ec9-473e8467a664"
      },
      "source": [
        "txt = \"Hello, welcome to my world.\"\n",
        "\n",
        "x = txt.endswith(\"my world.\")\n",
        "\n",
        "print(x) "
      ],
      "execution_count": 72,
      "outputs": [
        {
          "output_type": "stream",
          "name": "stdout",
          "text": [
            "True\n"
          ]
        }
      ]
    },
    {
      "cell_type": "code",
      "metadata": {
        "id": "3IFBgvA-gcth",
        "colab": {
          "base_uri": "https://localhost:8080/"
        },
        "outputId": "7edbaa42-862e-4264-b334-26ad52d2e788"
      },
      "source": [
        "txt = \"Hello, welcome to my world.\"\n",
        "\n",
        "x = txt.index(\"e\", 5, 10)\n",
        "\n",
        "print(x)\n"
      ],
      "execution_count": 73,
      "outputs": [
        {
          "output_type": "stream",
          "name": "stdout",
          "text": [
            "8\n"
          ]
        }
      ]
    },
    {
      "cell_type": "code",
      "metadata": {
        "colab": {
          "base_uri": "https://localhost:8080/",
          "height": 193
        },
        "id": "WXGBUiQCGqLK",
        "outputId": "fe1cd9ca-1c6e-476e-a4b4-04e4737694ae"
      },
      "source": [
        "txt = \"Hello, welcome to my world.\"\n",
        "print(txt.index(\"q\"))"
      ],
      "execution_count": 77,
      "outputs": [
        {
          "output_type": "error",
          "ename": "ValueError",
          "evalue": "ignored",
          "traceback": [
            "\u001b[0;31m---------------------------------------------------------------------------\u001b[0m",
            "\u001b[0;31mValueError\u001b[0m                                Traceback (most recent call last)",
            "\u001b[0;32m<ipython-input-77-426af83f164f>\u001b[0m in \u001b[0;36m<module>\u001b[0;34m()\u001b[0m\n\u001b[1;32m      1\u001b[0m \u001b[0mtxt\u001b[0m \u001b[0;34m=\u001b[0m \u001b[0;34m\"Hello, welcome to my world.\"\u001b[0m\u001b[0;34m\u001b[0m\u001b[0;34m\u001b[0m\u001b[0m\n\u001b[0;32m----> 2\u001b[0;31m \u001b[0mprint\u001b[0m\u001b[0;34m(\u001b[0m\u001b[0mtxt\u001b[0m\u001b[0;34m.\u001b[0m\u001b[0mindex\u001b[0m\u001b[0;34m(\u001b[0m\u001b[0;34m\"q\"\u001b[0m\u001b[0;34m)\u001b[0m\u001b[0;34m)\u001b[0m\u001b[0;34m\u001b[0m\u001b[0;34m\u001b[0m\u001b[0m\n\u001b[0m",
            "\u001b[0;31mValueError\u001b[0m: substring not found"
          ]
        }
      ]
    },
    {
      "cell_type": "code",
      "metadata": {
        "colab": {
          "base_uri": "https://localhost:8080/"
        },
        "id": "L41rGGGjGvxV",
        "outputId": "4e49e37a-f14b-4dfb-c29f-d3f0b9027ae5"
      },
      "source": [
        "print(txt.find(\"q\"))"
      ],
      "execution_count": 78,
      "outputs": [
        {
          "output_type": "stream",
          "name": "stdout",
          "text": [
            "-1\n"
          ]
        }
      ]
    },
    {
      "cell_type": "code",
      "metadata": {
        "colab": {
          "base_uri": "https://localhost:8080/"
        },
        "id": "TtmR3wJjG1fQ",
        "outputId": "2f2aab1f-781b-44c0-f182-04e301f70e74"
      },
      "source": [
        " txt = \"Company12\"\n",
        "\n",
        "x = txt.isalnum()\n",
        "\n",
        "print(x)"
      ],
      "execution_count": 79,
      "outputs": [
        {
          "output_type": "stream",
          "name": "stdout",
          "text": [
            "True\n"
          ]
        }
      ]
    },
    {
      "cell_type": "code",
      "metadata": {
        "colab": {
          "base_uri": "https://localhost:8080/"
        },
        "id": "xZt8hjjtHBD6",
        "outputId": "42433320-45ae-4a0f-e9cd-17398c5a224b"
      },
      "source": [
        "txt = \"Company 12\"\n",
        "\n",
        "x = txt.isalnum()\n",
        "\n",
        "print(x) "
      ],
      "execution_count": 80,
      "outputs": [
        {
          "output_type": "stream",
          "name": "stdout",
          "text": [
            "False\n"
          ]
        }
      ]
    },
    {
      "cell_type": "code",
      "metadata": {
        "colab": {
          "base_uri": "https://localhost:8080/"
        },
        "id": "uwA6jRwMHERy",
        "outputId": "19640505-9d9e-4ea8-8430-e1e1b0e22773"
      },
      "source": [
        "txt = \"CompanyX\"\n",
        "\n",
        "x = txt.isalpha()\n",
        "\n",
        "print(x) "
      ],
      "execution_count": 81,
      "outputs": [
        {
          "output_type": "stream",
          "name": "stdout",
          "text": [
            "True\n"
          ]
        }
      ]
    },
    {
      "cell_type": "code",
      "metadata": {
        "colab": {
          "base_uri": "https://localhost:8080/"
        },
        "id": "i465S3mmHS4B",
        "outputId": "afe3a438-fcd5-44b8-b4df-c4b6f7ec89b9"
      },
      "source": [
        "txt = \"Company10\"\n",
        "\n",
        "x = txt.isalpha()\n",
        "\n",
        "print(x) "
      ],
      "execution_count": 82,
      "outputs": [
        {
          "output_type": "stream",
          "name": "stdout",
          "text": [
            "False\n"
          ]
        }
      ]
    },
    {
      "cell_type": "code",
      "metadata": {
        "colab": {
          "base_uri": "https://localhost:8080/"
        },
        "id": "_LHkoQ3lHU4G",
        "outputId": "dcc637e3-b074-4f6d-8ee9-a52f4fbfbf86"
      },
      "source": [
        " txt = \"Company123\"\n",
        "\n",
        "x = txt.isascii()\n",
        "\n",
        "print(x) "
      ],
      "execution_count": 83,
      "outputs": [
        {
          "output_type": "stream",
          "name": "stdout",
          "text": [
            "True\n"
          ]
        }
      ]
    },
    {
      "cell_type": "code",
      "metadata": {
        "colab": {
          "base_uri": "https://localhost:8080/"
        },
        "id": "sDXJOuGHHbeD",
        "outputId": "68bbb8f9-3847-493c-8d78-1fdcc2663311"
      },
      "source": [
        " txt = \"Company 12\"\n",
        "\n",
        "x = txt.isalnum()\n",
        "\n",
        "print(x) "
      ],
      "execution_count": 84,
      "outputs": [
        {
          "output_type": "stream",
          "name": "stdout",
          "text": [
            "False\n"
          ]
        }
      ]
    },
    {
      "cell_type": "code",
      "metadata": {
        "colab": {
          "base_uri": "https://localhost:8080/"
        },
        "id": "7_3wWOtOHglX",
        "outputId": "d64e6523-77d3-45b4-9710-5e22b68fccbf"
      },
      "source": [
        "txt = \"I could eat bananas all day\"\n",
        "\n",
        "x = txt.partition(\"bananas\")\n",
        "\n",
        "print(x) "
      ],
      "execution_count": 85,
      "outputs": [
        {
          "output_type": "stream",
          "name": "stdout",
          "text": [
            "('I could eat ', 'bananas', ' all day')\n"
          ]
        }
      ]
    },
    {
      "cell_type": "code",
      "metadata": {
        "colab": {
          "base_uri": "https://localhost:8080/"
        },
        "id": "yGuRY6QzIiLP",
        "outputId": "2bd54ac2-04b6-45d5-c928-9de0833ef7c5"
      },
      "source": [
        " txt = \"I could eat bananas all day\"\n",
        "\n",
        "x = txt.partition(\"apples\")\n",
        "\n",
        "print(x) "
      ],
      "execution_count": 86,
      "outputs": [
        {
          "output_type": "stream",
          "name": "stdout",
          "text": [
            "('I could eat bananas all day', '', '')\n"
          ]
        }
      ]
    },
    {
      "cell_type": "code",
      "metadata": {
        "colab": {
          "base_uri": "https://localhost:8080/"
        },
        "id": "hqmj4YT7Im4H",
        "outputId": "28243437-a22e-46bf-f221-5b51f81fceeb"
      },
      "source": [
        "txt = \"Hello Sam!\"\n",
        "mytable = txt.maketrans(\"S\", \"P\")\n",
        "print(txt.translate(mytable))"
      ],
      "execution_count": 87,
      "outputs": [
        {
          "output_type": "stream",
          "name": "stdout",
          "text": [
            "Hello Pam!\n"
          ]
        }
      ]
    },
    {
      "cell_type": "code",
      "metadata": {
        "colab": {
          "base_uri": "https://localhost:8080/"
        },
        "id": "JX3MA2XlIu7S",
        "outputId": "3d001802-27cf-4883-c017-c91d44188acf"
      },
      "source": [
        "txt = \"Hi Sam!\"\n",
        "x = \"mSa\"\n",
        "y = \"eJo\"\n",
        "mytable = txt.maketrans(x, y)\n",
        "print(txt.translate(mytable)) "
      ],
      "execution_count": 88,
      "outputs": [
        {
          "output_type": "stream",
          "name": "stdout",
          "text": [
            "Hi Joe!\n"
          ]
        }
      ]
    },
    {
      "cell_type": "code",
      "metadata": {
        "colab": {
          "base_uri": "https://localhost:8080/"
        },
        "id": "1m9ZZ0I8JEQ9",
        "outputId": "6f1b695e-da7a-4416-cd7a-7187bacb93f5"
      },
      "source": [
        "txt = \"Mi casa, su casa.\"\n",
        "\n",
        "x = txt.rindex(\"casa\")\n",
        "\n",
        "print(x) "
      ],
      "execution_count": 90,
      "outputs": [
        {
          "output_type": "stream",
          "name": "stdout",
          "text": [
            "12\n"
          ]
        }
      ]
    },
    {
      "cell_type": "code",
      "metadata": {
        "colab": {
          "base_uri": "https://localhost:8080/"
        },
        "id": "e_f26fXDJLNV",
        "outputId": "e3ca7175-369b-44a6-8a8e-5f84ece5de21"
      },
      "source": [
        "txt = \"Hello My Name Is PETER\"\n",
        "\n",
        "x = txt.swapcase()\n",
        "\n",
        "print(x) "
      ],
      "execution_count": 91,
      "outputs": [
        {
          "output_type": "stream",
          "name": "stdout",
          "text": [
            "hELLO mY nAME iS peter\n"
          ]
        }
      ]
    },
    {
      "cell_type": "code",
      "metadata": {
        "colab": {
          "base_uri": "https://localhost:8080/"
        },
        "id": "7TIgwCaYJQmd",
        "outputId": "1344a76e-4f87-4854-ca50-5eb385f7ebfc"
      },
      "source": [
        "txt = \"Thank you for the music\\nWelcome to the jungle\"\n",
        "\n",
        "x = txt.splitlines()\n",
        "\n",
        "print(x) "
      ],
      "execution_count": 92,
      "outputs": [
        {
          "output_type": "stream",
          "name": "stdout",
          "text": [
            "['Thank you for the music', 'Welcome to the jungle']\n"
          ]
        }
      ]
    },
    {
      "cell_type": "code",
      "metadata": {
        "colab": {
          "base_uri": "https://localhost:8080/"
        },
        "id": "o57jUJX5JVs4",
        "outputId": "28df6bfb-8bf5-44e2-9542-6ba7fbed2bf2"
      },
      "source": [
        "txt = \"Welcome to my world\"\n",
        "\n",
        "x = txt.title()\n",
        "\n",
        "print(x) "
      ],
      "execution_count": 93,
      "outputs": [
        {
          "output_type": "stream",
          "name": "stdout",
          "text": [
            "Welcome To My World\n"
          ]
        }
      ]
    },
    {
      "cell_type": "code",
      "metadata": {
        "colab": {
          "base_uri": "https://localhost:8080/"
        },
        "id": "ya7oz7_fJf-8",
        "outputId": "dfd655e6-f763-4d03-c539-d072eca35672"
      },
      "source": [
        " a = 33\n",
        "b = 200\n",
        "if b > a:\n",
        "  print(\"b is greater than a\")"
      ],
      "execution_count": 94,
      "outputs": [
        {
          "output_type": "stream",
          "name": "stdout",
          "text": [
            "b is greater than a\n"
          ]
        }
      ]
    },
    {
      "cell_type": "code",
      "metadata": {
        "colab": {
          "base_uri": "https://localhost:8080/"
        },
        "id": "SnxhK8HTJsK9",
        "outputId": "59680904-8e80-4ffd-ae21-7584375826e3"
      },
      "source": [
        "a = 33\n",
        "b = 33\n",
        "if b > a:\n",
        "  print(\"b is greater than a\")\n",
        "elif a == b:\n",
        "  print(\"a and b are equal\")"
      ],
      "execution_count": 95,
      "outputs": [
        {
          "output_type": "stream",
          "name": "stdout",
          "text": [
            "a and b are equal\n"
          ]
        }
      ]
    },
    {
      "cell_type": "code",
      "metadata": {
        "id": "VfFCU_JWJvQ_"
      },
      "source": [
        ""
      ],
      "execution_count": null,
      "outputs": []
    }
  ]
}